{
 "cells": [
  {
   "cell_type": "code",
   "execution_count": 1,
   "id": "0e378b14-02fe-41f0-a239-abdd531d1a83",
   "metadata": {},
   "outputs": [],
   "source": [
    "import pandas as pd\n",
    "import numpy as np"
   ]
  },
  {
   "cell_type": "code",
   "execution_count": 3,
   "id": "5d65be05-102a-4b0f-b092-5aec9c0248ad",
   "metadata": {},
   "outputs": [
    {
     "data": {
      "text/html": [
       "<div>\n",
       "<style scoped>\n",
       "    .dataframe tbody tr th:only-of-type {\n",
       "        vertical-align: middle;\n",
       "    }\n",
       "\n",
       "    .dataframe tbody tr th {\n",
       "        vertical-align: top;\n",
       "    }\n",
       "\n",
       "    .dataframe thead th {\n",
       "        text-align: right;\n",
       "    }\n",
       "</style>\n",
       "<table border=\"1\" class=\"dataframe\">\n",
       "  <thead>\n",
       "    <tr style=\"text-align: right;\">\n",
       "      <th></th>\n",
       "      <th>Date of Sale</th>\n",
       "      <th>Product Category</th>\n",
       "      <th>Region</th>\n",
       "      <th>Price</th>\n",
       "      <th>Quantity</th>\n",
       "      <th>Sales</th>\n",
       "      <th>Customer Feedback</th>\n",
       "      <th>Promotion Applied</th>\n",
       "    </tr>\n",
       "  </thead>\n",
       "  <tbody>\n",
       "    <tr>\n",
       "      <th>0</th>\n",
       "      <td>2023-11-24</td>\n",
       "      <td>Toys</td>\n",
       "      <td>West</td>\n",
       "      <td>380.79</td>\n",
       "      <td>11</td>\n",
       "      <td>4188.69</td>\n",
       "      <td>Value for money</td>\n",
       "      <td>True</td>\n",
       "    </tr>\n",
       "    <tr>\n",
       "      <th>1</th>\n",
       "      <td>2023-02-27</td>\n",
       "      <td>Clothing</td>\n",
       "      <td>North</td>\n",
       "      <td>951.21</td>\n",
       "      <td>17</td>\n",
       "      <td>16170.57</td>\n",
       "      <td>Worth the price</td>\n",
       "      <td>True</td>\n",
       "    </tr>\n",
       "    <tr>\n",
       "      <th>2</th>\n",
       "      <td>2023-01-13</td>\n",
       "      <td>Grocery</td>\n",
       "      <td>North</td>\n",
       "      <td>734.67</td>\n",
       "      <td>8</td>\n",
       "      <td>5877.36</td>\n",
       "      <td>Value for money</td>\n",
       "      <td>True</td>\n",
       "    </tr>\n",
       "    <tr>\n",
       "      <th>3</th>\n",
       "      <td>2023-05-21</td>\n",
       "      <td>Toys</td>\n",
       "      <td>North</td>\n",
       "      <td>602.67</td>\n",
       "      <td>4</td>\n",
       "      <td>2410.68</td>\n",
       "      <td>Excellent quality</td>\n",
       "      <td>True</td>\n",
       "    </tr>\n",
       "    <tr>\n",
       "      <th>4</th>\n",
       "      <td>2023-05-06</td>\n",
       "      <td>Toys</td>\n",
       "      <td>South</td>\n",
       "      <td>164.46</td>\n",
       "      <td>6</td>\n",
       "      <td>986.76</td>\n",
       "      <td>Highly recommend</td>\n",
       "      <td>False</td>\n",
       "    </tr>\n",
       "    <tr>\n",
       "      <th>...</th>\n",
       "      <td>...</td>\n",
       "      <td>...</td>\n",
       "      <td>...</td>\n",
       "      <td>...</td>\n",
       "      <td>...</td>\n",
       "      <td>...</td>\n",
       "      <td>...</td>\n",
       "      <td>...</td>\n",
       "    </tr>\n",
       "    <tr>\n",
       "      <th>195</th>\n",
       "      <td>2023-09-30</td>\n",
       "      <td>Grocery</td>\n",
       "      <td>North</td>\n",
       "      <td>355.72</td>\n",
       "      <td>4</td>\n",
       "      <td>1422.88</td>\n",
       "      <td>Excellent quality</td>\n",
       "      <td>True</td>\n",
       "    </tr>\n",
       "    <tr>\n",
       "      <th>196</th>\n",
       "      <td>2023-03-06</td>\n",
       "      <td>Clothing</td>\n",
       "      <td>West</td>\n",
       "      <td>728.70</td>\n",
       "      <td>18</td>\n",
       "      <td>13116.60</td>\n",
       "      <td>Value for money</td>\n",
       "      <td>True</td>\n",
       "    </tr>\n",
       "    <tr>\n",
       "      <th>197</th>\n",
       "      <td>2023-03-07</td>\n",
       "      <td>Grocery</td>\n",
       "      <td>North</td>\n",
       "      <td>898.14</td>\n",
       "      <td>13</td>\n",
       "      <td>11675.82</td>\n",
       "      <td>Value for money</td>\n",
       "      <td>True</td>\n",
       "    </tr>\n",
       "    <tr>\n",
       "      <th>198</th>\n",
       "      <td>2023-12-04</td>\n",
       "      <td>Clothing</td>\n",
       "      <td>North</td>\n",
       "      <td>888.22</td>\n",
       "      <td>11</td>\n",
       "      <td>9770.42</td>\n",
       "      <td>Not as expected</td>\n",
       "      <td>False</td>\n",
       "    </tr>\n",
       "    <tr>\n",
       "      <th>199</th>\n",
       "      <td>2023-09-01</td>\n",
       "      <td>Furniture</td>\n",
       "      <td>West</td>\n",
       "      <td>782.08</td>\n",
       "      <td>4</td>\n",
       "      <td>3128.32</td>\n",
       "      <td>Highly recommend</td>\n",
       "      <td>False</td>\n",
       "    </tr>\n",
       "  </tbody>\n",
       "</table>\n",
       "<p>200 rows × 8 columns</p>\n",
       "</div>"
      ],
      "text/plain": [
       "    Date of Sale Product Category Region   Price  Quantity     Sales  \\\n",
       "0     2023-11-24             Toys   West  380.79        11   4188.69   \n",
       "1     2023-02-27         Clothing  North  951.21        17  16170.57   \n",
       "2     2023-01-13          Grocery  North  734.67         8   5877.36   \n",
       "3     2023-05-21             Toys  North  602.67         4   2410.68   \n",
       "4     2023-05-06             Toys  South  164.46         6    986.76   \n",
       "..           ...              ...    ...     ...       ...       ...   \n",
       "195   2023-09-30          Grocery  North  355.72         4   1422.88   \n",
       "196   2023-03-06         Clothing   West  728.70        18  13116.60   \n",
       "197   2023-03-07          Grocery  North  898.14        13  11675.82   \n",
       "198   2023-12-04         Clothing  North  888.22        11   9770.42   \n",
       "199   2023-09-01        Furniture   West  782.08         4   3128.32   \n",
       "\n",
       "     Customer Feedback  Promotion Applied  \n",
       "0      Value for money               True  \n",
       "1      Worth the price               True  \n",
       "2      Value for money               True  \n",
       "3    Excellent quality               True  \n",
       "4     Highly recommend              False  \n",
       "..                 ...                ...  \n",
       "195  Excellent quality               True  \n",
       "196    Value for money               True  \n",
       "197    Value for money               True  \n",
       "198    Not as expected              False  \n",
       "199   Highly recommend              False  \n",
       "\n",
       "[200 rows x 8 columns]"
      ]
     },
     "execution_count": 3,
     "metadata": {},
     "output_type": "execute_result"
    }
   ],
   "source": [
    "data = pd.read_csv('./sample_data_for_analysis.csv')\n",
    "data"
   ]
  },
  {
   "cell_type": "code",
   "execution_count": 5,
   "id": "99ca61c7-8bae-48f7-9d0a-86a6faa75272",
   "metadata": {},
   "outputs": [
    {
     "name": "stdout",
     "output_type": "stream",
     "text": [
      "<class 'pandas.core.frame.DataFrame'>\n",
      "RangeIndex: 200 entries, 0 to 199\n",
      "Data columns (total 8 columns):\n",
      " #   Column             Non-Null Count  Dtype  \n",
      "---  ------             --------------  -----  \n",
      " 0   Date of Sale       200 non-null    object \n",
      " 1   Product Category   200 non-null    object \n",
      " 2   Region             200 non-null    object \n",
      " 3   Price              200 non-null    float64\n",
      " 4   Quantity           200 non-null    int64  \n",
      " 5   Sales              200 non-null    float64\n",
      " 6   Customer Feedback  200 non-null    object \n",
      " 7   Promotion Applied  200 non-null    bool   \n",
      "dtypes: bool(1), float64(2), int64(1), object(4)\n",
      "memory usage: 11.3+ KB\n"
     ]
    }
   ],
   "source": [
    "data.info()"
   ]
  },
  {
   "cell_type": "code",
   "execution_count": 9,
   "id": "a8081e56-3a95-4ee6-84b0-f99dfb2646f0",
   "metadata": {},
   "outputs": [
    {
     "data": {
      "text/html": [
       "<div>\n",
       "<style scoped>\n",
       "    .dataframe tbody tr th:only-of-type {\n",
       "        vertical-align: middle;\n",
       "    }\n",
       "\n",
       "    .dataframe tbody tr th {\n",
       "        vertical-align: top;\n",
       "    }\n",
       "\n",
       "    .dataframe thead th {\n",
       "        text-align: right;\n",
       "    }\n",
       "</style>\n",
       "<table border=\"1\" class=\"dataframe\">\n",
       "  <thead>\n",
       "    <tr style=\"text-align: right;\">\n",
       "      <th></th>\n",
       "      <th>Price</th>\n",
       "      <th>Quantity</th>\n",
       "      <th>Sales</th>\n",
       "    </tr>\n",
       "  </thead>\n",
       "  <tbody>\n",
       "    <tr>\n",
       "      <th>count</th>\n",
       "      <td>200.000000</td>\n",
       "      <td>200.000000</td>\n",
       "      <td>200.000000</td>\n",
       "    </tr>\n",
       "    <tr>\n",
       "      <th>mean</th>\n",
       "      <td>489.166200</td>\n",
       "      <td>9.570000</td>\n",
       "      <td>5035.180800</td>\n",
       "    </tr>\n",
       "    <tr>\n",
       "      <th>std</th>\n",
       "      <td>291.942465</td>\n",
       "      <td>5.925424</td>\n",
       "      <td>4719.953848</td>\n",
       "    </tr>\n",
       "    <tr>\n",
       "      <th>min</th>\n",
       "      <td>15.470000</td>\n",
       "      <td>1.000000</td>\n",
       "      <td>41.110000</td>\n",
       "    </tr>\n",
       "    <tr>\n",
       "      <th>25%</th>\n",
       "      <td>236.297500</td>\n",
       "      <td>4.000000</td>\n",
       "      <td>1078.860000</td>\n",
       "    </tr>\n",
       "    <tr>\n",
       "      <th>50%</th>\n",
       "      <td>499.545000</td>\n",
       "      <td>10.000000</td>\n",
       "      <td>3237.480000</td>\n",
       "    </tr>\n",
       "    <tr>\n",
       "      <th>75%</th>\n",
       "      <td>759.295000</td>\n",
       "      <td>15.000000</td>\n",
       "      <td>8335.800000</td>\n",
       "    </tr>\n",
       "    <tr>\n",
       "      <th>max</th>\n",
       "      <td>987.020000</td>\n",
       "      <td>19.000000</td>\n",
       "      <td>18353.620000</td>\n",
       "    </tr>\n",
       "  </tbody>\n",
       "</table>\n",
       "</div>"
      ],
      "text/plain": [
       "            Price    Quantity         Sales\n",
       "count  200.000000  200.000000    200.000000\n",
       "mean   489.166200    9.570000   5035.180800\n",
       "std    291.942465    5.925424   4719.953848\n",
       "min     15.470000    1.000000     41.110000\n",
       "25%    236.297500    4.000000   1078.860000\n",
       "50%    499.545000   10.000000   3237.480000\n",
       "75%    759.295000   15.000000   8335.800000\n",
       "max    987.020000   19.000000  18353.620000"
      ]
     },
     "execution_count": 9,
     "metadata": {},
     "output_type": "execute_result"
    }
   ],
   "source": [
    "data.describe()"
   ]
  },
  {
   "cell_type": "markdown",
   "id": "6559bd75-541e-4bb6-8434-e10f5ac7feba",
   "metadata": {},
   "source": [
    "# 1. Data Cleaning and Exploration"
   ]
  },
  {
   "cell_type": "markdown",
   "id": "f216603f-a7d8-4d77-927f-faba0d6f4d3b",
   "metadata": {},
   "source": [
    "1. How many unique product categories and regions are there in the dataset?"
   ]
  },
  {
   "cell_type": "code",
   "execution_count": 11,
   "id": "6e100420-77d0-452e-8ee5-ebe0e8f0ec14",
   "metadata": {},
   "outputs": [
    {
     "name": "stdout",
     "output_type": "stream",
     "text": [
      "Unique Regions:  4\n",
      "Unique Product Category:  5\n"
     ]
    }
   ],
   "source": [
    "unique_region = data['Region'].nunique()\n",
    "unique_product_category = data['Product Category'].nunique()\n",
    "\n",
    "print('Unique Regions: ', unique_region)\n",
    "print('Unique Product Category: ', unique_product_category)"
   ]
  },
  {
   "cell_type": "markdown",
   "id": "e4862966-8de3-48f2-b7b0-6b7d3a9e8401",
   "metadata": {},
   "source": [
    "2. What is the range of dates in the \"Date of Sale\" column?"
   ]
  },
  {
   "cell_type": "code",
   "execution_count": 13,
   "id": "cd531440-6f32-4897-baa5-34e79425a5bc",
   "metadata": {},
   "outputs": [
    {
     "name": "stdout",
     "output_type": "stream",
     "text": [
      "Date range \n",
      " min    2023-01-01\n",
      "max    2023-12-27\n",
      "Name: Date of Sale, dtype: object\n"
     ]
    }
   ],
   "source": [
    "date_range = data['Date of Sale'].agg(['min', 'max'])\n",
    "print('Date range \\n', date_range)"
   ]
  },
  {
   "cell_type": "markdown",
   "id": "81013885-b248-4cb5-98ac-799c0c005695",
   "metadata": {},
   "source": [
    "# 2. Descriptive Statistics"
   ]
  },
  {
   "cell_type": "markdown",
   "id": "5c1a1a65-e823-48ee-a58e-7cd7af442ec2",
   "metadata": {},
   "source": [
    "1. Calculate the average price, quantity, and sales for each product category."
   ]
  },
  {
   "cell_type": "code",
   "execution_count": 15,
   "id": "dd8477ac-2e6a-4c71-895d-e4f328a225a7",
   "metadata": {},
   "outputs": [
    {
     "data": {
      "text/html": [
       "<div>\n",
       "<style scoped>\n",
       "    .dataframe tbody tr th:only-of-type {\n",
       "        vertical-align: middle;\n",
       "    }\n",
       "\n",
       "    .dataframe tbody tr th {\n",
       "        vertical-align: top;\n",
       "    }\n",
       "\n",
       "    .dataframe thead th {\n",
       "        text-align: right;\n",
       "    }\n",
       "</style>\n",
       "<table border=\"1\" class=\"dataframe\">\n",
       "  <thead>\n",
       "    <tr style=\"text-align: right;\">\n",
       "      <th></th>\n",
       "      <th>Price</th>\n",
       "      <th>Quantity</th>\n",
       "      <th>Sales</th>\n",
       "    </tr>\n",
       "    <tr>\n",
       "      <th>Product Category</th>\n",
       "      <th></th>\n",
       "      <th></th>\n",
       "      <th></th>\n",
       "    </tr>\n",
       "  </thead>\n",
       "  <tbody>\n",
       "    <tr>\n",
       "      <th>Clothing</th>\n",
       "      <td>527.324419</td>\n",
       "      <td>8.069767</td>\n",
       "      <td>4597.067209</td>\n",
       "    </tr>\n",
       "    <tr>\n",
       "      <th>Electronics</th>\n",
       "      <td>441.385000</td>\n",
       "      <td>9.478261</td>\n",
       "      <td>4575.647826</td>\n",
       "    </tr>\n",
       "    <tr>\n",
       "      <th>Furniture</th>\n",
       "      <td>488.372778</td>\n",
       "      <td>9.388889</td>\n",
       "      <td>4459.339722</td>\n",
       "    </tr>\n",
       "    <tr>\n",
       "      <th>Grocery</th>\n",
       "      <td>519.210882</td>\n",
       "      <td>11.852941</td>\n",
       "      <td>6862.583529</td>\n",
       "    </tr>\n",
       "    <tr>\n",
       "      <th>Toys</th>\n",
       "      <td>478.536341</td>\n",
       "      <td>9.512195</td>\n",
       "      <td>5000.448780</td>\n",
       "    </tr>\n",
       "  </tbody>\n",
       "</table>\n",
       "</div>"
      ],
      "text/plain": [
       "                       Price   Quantity        Sales\n",
       "Product Category                                    \n",
       "Clothing          527.324419   8.069767  4597.067209\n",
       "Electronics       441.385000   9.478261  4575.647826\n",
       "Furniture         488.372778   9.388889  4459.339722\n",
       "Grocery           519.210882  11.852941  6862.583529\n",
       "Toys              478.536341   9.512195  5000.448780"
      ]
     },
     "execution_count": 15,
     "metadata": {},
     "output_type": "execute_result"
    }
   ],
   "source": [
    "data.groupby('Product Category')[['Price', 'Quantity', 'Sales']].mean()"
   ]
  },
  {
   "cell_type": "markdown",
   "id": "e19c6b79-c6cb-451c-a376-5a6c1963869b",
   "metadata": {},
   "source": [
    "2. What is the total sales amount for each region?"
   ]
  },
  {
   "cell_type": "code",
   "execution_count": 17,
   "id": "168b2fb3-639f-4b4b-bc24-d5af42e7a29b",
   "metadata": {},
   "outputs": [
    {
     "data": {
      "text/plain": [
       "Region\n",
       "East     199154.43\n",
       "North    245398.18\n",
       "South    189768.81\n",
       "West     372714.74\n",
       "Name: Sales, dtype: float64"
      ]
     },
     "execution_count": 17,
     "metadata": {},
     "output_type": "execute_result"
    }
   ],
   "source": [
    "data.groupby('Region')['Sales'].sum()"
   ]
  },
  {
   "cell_type": "markdown",
   "id": "80232b85-1b49-4017-a06a-3ec49eae0dc6",
   "metadata": {},
   "source": [
    "3. Find the minimum and maximum sales values in the dataset. Which records correspond to these values?"
   ]
  },
  {
   "cell_type": "code",
   "execution_count": 19,
   "id": "7b947977-46f6-4e1d-98a2-9728ea423bca",
   "metadata": {},
   "outputs": [
    {
     "name": "stdout",
     "output_type": "stream",
     "text": [
      "    Date of Sale Product Category Region  Price  Quantity  Sales  \\\n",
      "100   2023-01-29          Grocery  South  41.11         1  41.11   \n",
      "\n",
      "    Customer Feedback  Promotion Applied  \n",
      "100   Worth the price              False  \n",
      "   Date of Sale Product Category Region   Price  Quantity     Sales  \\\n",
      "34   2023-08-05             Toys  North  965.98        19  18353.62   \n",
      "\n",
      "   Customer Feedback  Promotion Applied  \n",
      "34   Not as expected               True  \n"
     ]
    }
   ],
   "source": [
    "min_sale = data[data['Sales'] == data['Sales'].min()]\n",
    "print(min_sale)\n",
    "max_sale = data[data['Sales'] == data['Sales'].max()]\n",
    "print(max_sale)"
   ]
  },
  {
   "cell_type": "markdown",
   "id": "47774e7a-1cb6-4611-ae10-71fb558ea63f",
   "metadata": {},
   "source": [
    "# 3. Time-Series Analysis"
   ]
  },
  {
   "cell_type": "markdown",
   "id": "3b22956a-70d7-4595-82a9-7bd492f61e69",
   "metadata": {},
   "source": [
    "1. Calculate total monthly sales for each region."
   ]
  },
  {
   "cell_type": "code",
   "execution_count": 21,
   "id": "9ea30b5b-57e1-4f7a-8cbd-8f5be2e19e62",
   "metadata": {},
   "outputs": [
    {
     "data": {
      "text/plain": [
       "Region  month\n",
       "East    1         4933.67\n",
       "        2        15923.45\n",
       "        3         8854.49\n",
       "        4        14873.28\n",
       "        5        41216.03\n",
       "        6        13278.54\n",
       "        7        31109.13\n",
       "        8         2965.53\n",
       "        9        20939.64\n",
       "        10       27634.84\n",
       "        11       11693.15\n",
       "        12        5732.68\n",
       "North   1        24372.05\n",
       "        2        40367.59\n",
       "        3        29375.54\n",
       "        4         2012.57\n",
       "        5         2410.68\n",
       "        6         6161.76\n",
       "        7        41614.84\n",
       "        8        19785.84\n",
       "        9        19608.14\n",
       "        10       31797.40\n",
       "        11       12935.01\n",
       "        12       14956.76\n",
       "South   1        23783.81\n",
       "        2        51278.69\n",
       "        3         7398.30\n",
       "        4         9296.55\n",
       "        5         7142.54\n",
       "        6         1293.15\n",
       "        7         1635.33\n",
       "        8        13988.99\n",
       "        9        11396.02\n",
       "        10       29232.34\n",
       "        11       31966.21\n",
       "        12        1356.88\n",
       "West    1        17384.64\n",
       "        2        29897.58\n",
       "        3        48688.54\n",
       "        4        46941.41\n",
       "        5        16913.95\n",
       "        6        35315.13\n",
       "        7        15650.85\n",
       "        8        30921.36\n",
       "        9        21527.35\n",
       "        10       18049.89\n",
       "        11       56392.22\n",
       "        12       35031.82\n",
       "Name: Sales, dtype: float64"
      ]
     },
     "execution_count": 21,
     "metadata": {},
     "output_type": "execute_result"
    }
   ],
   "source": [
    "data['Date of Sale'] = pd.to_datetime(data['Date of Sale'])\n",
    "data['month'] = data['Date of Sale'].dt.month\n",
    "data.groupby(['Region', 'month'])['Sales'].sum()"
   ]
  },
  {
   "cell_type": "markdown",
   "id": "d7188757-6ef6-4c9e-b424-981eff9ebb73",
   "metadata": {},
   "source": [
    "2. Identify any trends by plotting total sales over time."
   ]
  },
  {
   "cell_type": "code",
   "execution_count": 147,
   "id": "12fee874-c660-4963-97c8-a1f60b391f12",
   "metadata": {},
   "outputs": [
    {
     "data": {
      "text/plain": [
       "<Axes: title={'center': 'Total Sales Over Time'}, xlabel='Date of Sale'>"
      ]
     },
     "execution_count": 147,
     "metadata": {},
     "output_type": "execute_result"
    },
    {
     "data": {
      "image/png": "[encoded data removed]",
      "text/plain": [
       "<Figure size 640x480 with 1 Axes>"
      ]
     },
     "metadata": {},
     "output_type": "display_data"
    }
   ],
   "source": [
    "total_sales_over_time = data.groupby('Date of Sale')['Sales'].sum()\n",
    "total_sales_over_time.plot(title=\"Total Sales Over Time\")"
   ]
  },
  {
   "cell_type": "markdown",
   "id": "aae04e8a-461e-436a-8c9f-c07d793f289c",
   "metadata": {},
   "source": [
    "3. Determine which month has the highest sales overall."
   ]
  },
  {
   "cell_type": "code",
   "execution_count": 39,
   "id": "591e21f3-c7e7-410b-8a2f-aba7397ae539",
   "metadata": {},
   "outputs": [
    {
     "data": {
      "text/plain": [
       "8"
      ]
     },
     "execution_count": 39,
     "metadata": {},
     "output_type": "execute_result"
    }
   ],
   "source": [
    "month_of_highest_sale = data.groupby('month')['Sales'].max().idxmax() # idxmax() look over the column and give us the highest value of the column\n",
    "month_of_highest_sale"
   ]
  },
  {
   "cell_type": "markdown",
   "id": "7fe2c2d8-f69f-4cc6-9dc9-e18b8aa620b3",
   "metadata": {},
   "source": [
    "# 4. Aggregation and Grouping"
   ]
  },
  {
   "cell_type": "markdown",
   "id": "f7020aac-0dff-4ea3-bb53-77829721fb6f",
   "metadata": {},
   "source": [
    "1. What is the average sales amount for products sold with and without a promotion?"
   ]
  },
  {
   "cell_type": "code",
   "execution_count": 169,
   "id": "90e1675b-6e9c-448e-8916-75fd16b5e208",
   "metadata": {},
   "outputs": [
    {
     "data": {
      "text/plain": [
       "Promotion Applied\n",
       "False    4694.249412\n",
       "True     5287.173565\n",
       "Name: Sales, dtype: float64"
      ]
     },
     "execution_count": 169,
     "metadata": {},
     "output_type": "execute_result"
    }
   ],
   "source": [
    "data.groupby('Promotion Applied')['Sales'].mean()"
   ]
  },
  {
   "cell_type": "markdown",
   "id": "dec8cfdb-3cc8-4091-9b85-6f4d595617f0",
   "metadata": {},
   "source": [
    "2. Group by region and product category, then find the total sales and average quantity."
   ]
  },
  {
   "cell_type": "code",
   "execution_count": 172,
   "id": "0cf1ea19-162c-4c2e-919d-615fc3739f87",
   "metadata": {},
   "outputs": [
    {
     "data": {
      "text/html": [
       "<div>\n",
       "<style scoped>\n",
       "    .dataframe tbody tr th:only-of-type {\n",
       "        vertical-align: middle;\n",
       "    }\n",
       "\n",
       "    .dataframe tbody tr th {\n",
       "        vertical-align: top;\n",
       "    }\n",
       "\n",
       "    .dataframe thead th {\n",
       "        text-align: right;\n",
       "    }\n",
       "</style>\n",
       "<table border=\"1\" class=\"dataframe\">\n",
       "  <thead>\n",
       "    <tr style=\"text-align: right;\">\n",
       "      <th></th>\n",
       "      <th></th>\n",
       "      <th>Sales</th>\n",
       "      <th>Quantity</th>\n",
       "    </tr>\n",
       "    <tr>\n",
       "      <th>Region</th>\n",
       "      <th>Product Category</th>\n",
       "      <th></th>\n",
       "      <th></th>\n",
       "    </tr>\n",
       "  </thead>\n",
       "  <tbody>\n",
       "    <tr>\n",
       "      <th rowspan=\"5\" valign=\"top\">East</th>\n",
       "      <th>Clothing</th>\n",
       "      <td>32017.97</td>\n",
       "      <td>5.777778</td>\n",
       "    </tr>\n",
       "    <tr>\n",
       "      <th>Electronics</th>\n",
       "      <td>60409.24</td>\n",
       "      <td>9.500000</td>\n",
       "    </tr>\n",
       "    <tr>\n",
       "      <th>Furniture</th>\n",
       "      <td>49173.05</td>\n",
       "      <td>10.400000</td>\n",
       "    </tr>\n",
       "    <tr>\n",
       "      <th>Grocery</th>\n",
       "      <td>46034.80</td>\n",
       "      <td>13.800000</td>\n",
       "    </tr>\n",
       "    <tr>\n",
       "      <th>Toys</th>\n",
       "      <td>11519.37</td>\n",
       "      <td>4.333333</td>\n",
       "    </tr>\n",
       "    <tr>\n",
       "      <th rowspan=\"5\" valign=\"top\">North</th>\n",
       "      <th>Clothing</th>\n",
       "      <td>52182.76</td>\n",
       "      <td>8.000000</td>\n",
       "    </tr>\n",
       "    <tr>\n",
       "      <th>Electronics</th>\n",
       "      <td>25496.22</td>\n",
       "      <td>14.333333</td>\n",
       "    </tr>\n",
       "    <tr>\n",
       "      <th>Furniture</th>\n",
       "      <td>40130.10</td>\n",
       "      <td>9.400000</td>\n",
       "    </tr>\n",
       "    <tr>\n",
       "      <th>Grocery</th>\n",
       "      <td>38095.13</td>\n",
       "      <td>9.125000</td>\n",
       "    </tr>\n",
       "    <tr>\n",
       "      <th>Toys</th>\n",
       "      <td>89493.97</td>\n",
       "      <td>11.416667</td>\n",
       "    </tr>\n",
       "    <tr>\n",
       "      <th rowspan=\"5\" valign=\"top\">South</th>\n",
       "      <th>Clothing</th>\n",
       "      <td>35742.33</td>\n",
       "      <td>6.833333</td>\n",
       "    </tr>\n",
       "    <tr>\n",
       "      <th>Electronics</th>\n",
       "      <td>43852.30</td>\n",
       "      <td>8.416667</td>\n",
       "    </tr>\n",
       "    <tr>\n",
       "      <th>Furniture</th>\n",
       "      <td>8191.47</td>\n",
       "      <td>6.600000</td>\n",
       "    </tr>\n",
       "    <tr>\n",
       "      <th>Grocery</th>\n",
       "      <td>61470.08</td>\n",
       "      <td>12.100000</td>\n",
       "    </tr>\n",
       "    <tr>\n",
       "      <th>Toys</th>\n",
       "      <td>40512.63</td>\n",
       "      <td>10.307692</td>\n",
       "    </tr>\n",
       "    <tr>\n",
       "      <th rowspan=\"5\" valign=\"top\">West</th>\n",
       "      <th>Clothing</th>\n",
       "      <td>77730.83</td>\n",
       "      <td>10.642857</td>\n",
       "    </tr>\n",
       "    <tr>\n",
       "      <th>Electronics</th>\n",
       "      <td>80722.04</td>\n",
       "      <td>9.333333</td>\n",
       "    </tr>\n",
       "    <tr>\n",
       "      <th>Furniture</th>\n",
       "      <td>63041.61</td>\n",
       "      <td>9.727273</td>\n",
       "    </tr>\n",
       "    <tr>\n",
       "      <th>Grocery</th>\n",
       "      <td>87727.83</td>\n",
       "      <td>12.727273</td>\n",
       "    </tr>\n",
       "    <tr>\n",
       "      <th>Toys</th>\n",
       "      <td>63492.43</td>\n",
       "      <td>9.300000</td>\n",
       "    </tr>\n",
       "  </tbody>\n",
       "</table>\n",
       "</div>"
      ],
      "text/plain": [
       "                            Sales   Quantity\n",
       "Region Product Category                     \n",
       "East   Clothing          32017.97   5.777778\n",
       "       Electronics       60409.24   9.500000\n",
       "       Furniture         49173.05  10.400000\n",
       "       Grocery           46034.80  13.800000\n",
       "       Toys              11519.37   4.333333\n",
       "North  Clothing          52182.76   8.000000\n",
       "       Electronics       25496.22  14.333333\n",
       "       Furniture         40130.10   9.400000\n",
       "       Grocery           38095.13   9.125000\n",
       "       Toys              89493.97  11.416667\n",
       "South  Clothing          35742.33   6.833333\n",
       "       Electronics       43852.30   8.416667\n",
       "       Furniture          8191.47   6.600000\n",
       "       Grocery           61470.08  12.100000\n",
       "       Toys              40512.63  10.307692\n",
       "West   Clothing          77730.83  10.642857\n",
       "       Electronics       80722.04   9.333333\n",
       "       Furniture         63041.61   9.727273\n",
       "       Grocery           87727.83  12.727273\n",
       "       Toys              63492.43   9.300000"
      ]
     },
     "execution_count": 172,
     "metadata": {},
     "output_type": "execute_result"
    }
   ],
   "source": [
    "data.groupby(['Region', 'Product Category']).agg({'Sales': 'sum', 'Quantity': 'mean'})"
   ]
  },
  {
   "cell_type": "markdown",
   "id": "4b58f43f-c59a-4120-a636-e8cc9ec38d2e",
   "metadata": {},
   "source": [
    "3. What are the top 3 regions in terms of total sales for each product category?"
   ]
  },
  {
   "cell_type": "code",
   "execution_count": 55,
   "id": "7b48bb7b-9258-4f0c-9b48-9cdf7c5f8084",
   "metadata": {},
   "outputs": [
    {
     "data": {
      "text/plain": [
       "Product Category  Region\n",
       "Toys              North     89493.97\n",
       "Grocery           West      87727.83\n",
       "Electronics       West      80722.04\n",
       "Clothing          West      77730.83\n",
       "Toys              West      63492.43\n",
       "Furniture         West      63041.61\n",
       "Grocery           South     61470.08\n",
       "Electronics       East      60409.24\n",
       "Clothing          North     52182.76\n",
       "Furniture         East      49173.05\n",
       "Grocery           East      46034.80\n",
       "Electronics       South     43852.30\n",
       "Toys              South     40512.63\n",
       "Furniture         North     40130.10\n",
       "Clothing          South     35742.33\n",
       "Name: Sales, dtype: float64"
      ]
     },
     "execution_count": 55,
     "metadata": {},
     "output_type": "execute_result"
    }
   ],
   "source": [
    "data.groupby(['Product Category', 'Region'])['Sales'].sum().sort_values(ascending=False).groupby(level=0).head(3)"
   ]
  },
  {
   "cell_type": "markdown",
   "id": "421aefc3-5850-4a74-ab38-17a3dff93b1f",
   "metadata": {},
   "source": [
    "# 5. Text Analysis (Customer Feedback)"
   ]
  },
  {
   "cell_type": "markdown",
   "id": "36ea6993-4072-4969-bd48-13dd8e52397f",
   "metadata": {},
   "source": [
    "1. Find the most common phrases or words in customer feedback."
   ]
  },
  {
   "cell_type": "code",
   "execution_count": 106,
   "id": "f23088c7-ad85-4c51-a45f-bb73ae00580b",
   "metadata": {},
   "outputs": [
    {
     "data": {
      "text/plain": [
       "Customer Feedback\n",
       "Highly recommend     27\n",
       "Worth the price      26\n",
       "Could be better      22\n",
       "Poor quality         21\n",
       "Not satisfied        20\n",
       "Not as expected      20\n",
       "Excellent quality    18\n",
       "Value for money      16\n",
       "Fast delivery        15\n",
       "Will buy again       15\n",
       "Name: count, dtype: int64"
      ]
     },
     "execution_count": 106,
     "metadata": {},
     "output_type": "execute_result"
    }
   ],
   "source": [
    "data['Customer Feedback'].value_counts()"
   ]
  },
  {
   "cell_type": "markdown",
   "id": "401b5694-bf79-423d-bb25-b9cba7876760",
   "metadata": {},
   "source": [
    "2. Calculate the percentage of \"Highly recommend\" feedback by region."
   ]
  },
  {
   "cell_type": "code",
   "execution_count": 144,
   "id": "8e9f4531-7b0a-406d-b262-2f2be2b9ab64",
   "metadata": {},
   "outputs": [
    {
     "data": {
      "text/plain": [
       "Region\n",
       "East     13.043478\n",
       "North    14.634146\n",
       "South    11.538462\n",
       "West     14.754098\n",
       "dtype: float64"
      ]
     },
     "execution_count": 144,
     "metadata": {},
     "output_type": "execute_result"
    }
   ],
   "source": [
    "highly_recommend = (data[data['Customer Feedback'] == 'Highly recommend'].groupby('Region').size()/data.groupby('Region').size() ) * 100\n",
    "highly_recommend"
   ]
  },
  {
   "cell_type": "markdown",
   "id": "82f57887-6757-4426-94b2-83638b11a420",
   "metadata": {},
   "source": [
    "3. Identify any products with predominantly negative feedback (e.g., \"Not satisfied,\" \"Could be better\")."
   ]
  },
  {
   "cell_type": "code",
   "execution_count": 161,
   "id": "57cc3bf5-ace9-4a5a-a176-c9500e8f4982",
   "metadata": {},
   "outputs": [
    {
     "name": "stdout",
     "output_type": "stream",
     "text": [
      "Product Category\n",
      "Clothing       18\n",
      "Electronics    24\n",
      "Furniture      15\n",
      "Grocery         9\n",
      "Toys           17\n",
      "dtype: int64\n"
     ]
    }
   ],
   "source": [
    "negative_feedback = data[data['Customer Feedback'].isin([\"Not satisfied\", 'Could be better', 'Not as expected', 'Poor quality'])]\n",
    "negative_feedback_count = negative_feedback.groupby('Product Category').size()\n",
    "print(negative_feedback_count)"
   ]
  },
  {
   "cell_type": "markdown",
   "id": "1a29d093-d2ad-41d9-8fb8-9d775849cc44",
   "metadata": {},
   "source": [
    "# 6. Comparative Analysis"
   ]
  },
  {
   "cell_type": "markdown",
   "id": "c99b6a67-a596-4e58-96c9-1f6a06c96402",
   "metadata": {},
   "source": [
    "1. Compare the average sales with and without promotion across product categories."
   ]
  },
  {
   "cell_type": "code",
   "execution_count": 171,
   "id": "94f361d0-289d-4103-a37d-ab2abcf7797c",
   "metadata": {},
   "outputs": [
    {
     "data": {
      "text/plain": [
       "Product Category  Promotion Applied\n",
       "Clothing          False                4139.996154\n",
       "                  True                 4795.131333\n",
       "Electronics       False                4346.961905\n",
       "                  True                 4767.744000\n",
       "Furniture         False                4691.358125\n",
       "                  True                 4273.725000\n",
       "Grocery           False                5899.012857\n",
       "                  True                 7537.083000\n",
       "Toys              False                4583.673333\n",
       "                  True                 5438.063000\n",
       "Name: Sales, dtype: float64"
      ]
     },
     "execution_count": 171,
     "metadata": {},
     "output_type": "execute_result"
    }
   ],
   "source": [
    "data.groupby(['Product Category', 'Promotion Applied'])['Sales'].mean()"
   ]
  },
  {
   "cell_type": "markdown",
   "id": "b33fe416-1248-47b1-a693-43299fd302c0",
   "metadata": {},
   "source": [
    "2. Are there any notable differences in the average sales between regions?"
   ]
  },
  {
   "cell_type": "code",
   "execution_count": 180,
   "id": "a3000441-5346-4696-8eb9-64d596bedb82",
   "metadata": {},
   "outputs": [
    {
     "data": {
      "text/plain": [
       "Region\n",
       "East     4329.444130\n",
       "North    5985.321463\n",
       "South    3649.400192\n",
       "West     6110.077705\n",
       "Name: Sales, dtype: float64"
      ]
     },
     "execution_count": 180,
     "metadata": {},
     "output_type": "execute_result"
    }
   ],
   "source": [
    "data.groupby('Region')['Sales'].mean()"
   ]
  },
  {
   "cell_type": "markdown",
   "id": "f84d3561-806e-4a01-826a-99f7cf177caa",
   "metadata": {},
   "source": [
    "# 7. Boolean Analysis"
   ]
  },
  {
   "cell_type": "markdown",
   "id": "eee27a1a-4a9b-4616-9fcf-c140a1ee00e0",
   "metadata": {},
   "source": [
    "1. What percentage of sales involved a promotion?"
   ]
  },
  {
   "cell_type": "code",
   "execution_count": 238,
   "id": "e6d60542-b423-42a7-990a-d473820a1c1a",
   "metadata": {},
   "outputs": [
    {
     "data": {
      "text/plain": [
       "60.37766906006633"
      ]
     },
     "execution_count": 238,
     "metadata": {},
     "output_type": "execute_result"
    }
   ],
   "source": [
    "promotion_sales_percentage = (data.groupby('Promotion Applied')['Sales'].sum()/ data['Sales'].sum()) * 100\n",
    "promotion_sales_percentage[True]"
   ]
  },
  {
   "cell_type": "markdown",
   "id": "de515acb-dcdd-4584-b7d8-ffc080c63504",
   "metadata": {},
   "source": [
    "2. Determine the average sales increase or decrease when a promotion is applied."
   ]
  },
  {
   "cell_type": "code",
   "execution_count": 240,
   "id": "7c91c899-f8e5-46bb-84f0-f59252bf97d8",
   "metadata": {},
   "outputs": [
    {
     "data": {
      "text/plain": [
       "592.9241534526855"
      ]
     },
     "execution_count": 240,
     "metadata": {},
     "output_type": "execute_result"
    }
   ],
   "source": [
    "total_sale = data.groupby('Promotion Applied')['Sales'].mean()\n",
    "sale_diff = total_sale[True] - total_sale[False]\n",
    "sale_diff"
   ]
  },
  {
   "cell_type": "markdown",
   "id": "2b6ff5a7-1deb-4744-a178-a3614270ffd0",
   "metadata": {},
   "source": [
    "# 8. Advanced Calculations"
   ]
  },
  {
   "cell_type": "markdown",
   "id": "ea70e52d-b95f-4dc0-b8b7-97dc063e5d67",
   "metadata": {},
   "source": [
    "1. Calculate the profit assuming a 20% profit margin on the sales amount."
   ]
  },
  {
   "cell_type": "code",
   "execution_count": 252,
   "id": "8e7f5304-fc47-47b4-935f-71d230dbfb0e",
   "metadata": {},
   "outputs": [],
   "source": [
    "data['Profit'] = data['Sales'] * 0.2"
   ]
  },
  {
   "cell_type": "markdown",
   "id": "a1dd8b36-af24-41c2-bcc1-4cb6b9f62810",
   "metadata": {},
   "source": [
    "2. Create a new column \"Discounted Price\" with a 10% discount on products sold with a promotion."
   ]
  },
  {
   "cell_type": "code",
   "execution_count": 323,
   "id": "a22d4cca-74c0-4335-b9c6-72cebf3fc0fd",
   "metadata": {},
   "outputs": [
    {
     "data": {
      "text/html": [
       "<div>\n",
       "<style scoped>\n",
       "    .dataframe tbody tr th:only-of-type {\n",
       "        vertical-align: middle;\n",
       "    }\n",
       "\n",
       "    .dataframe tbody tr th {\n",
       "        vertical-align: top;\n",
       "    }\n",
       "\n",
       "    .dataframe thead th {\n",
       "        text-align: right;\n",
       "    }\n",
       "</style>\n",
       "<table border=\"1\" class=\"dataframe\">\n",
       "  <thead>\n",
       "    <tr style=\"text-align: right;\">\n",
       "      <th></th>\n",
       "      <th>Date of Sale</th>\n",
       "      <th>Product Category</th>\n",
       "      <th>Region</th>\n",
       "      <th>Price</th>\n",
       "      <th>Quantity</th>\n",
       "      <th>Sales</th>\n",
       "      <th>Customer Feedback</th>\n",
       "      <th>Promotion Applied</th>\n",
       "      <th>month</th>\n",
       "      <th>Profit</th>\n",
       "      <th>Discounted_Price</th>\n",
       "    </tr>\n",
       "  </thead>\n",
       "  <tbody>\n",
       "    <tr>\n",
       "      <th>0</th>\n",
       "      <td>2023-11-24</td>\n",
       "      <td>Toys</td>\n",
       "      <td>West</td>\n",
       "      <td>380.79</td>\n",
       "      <td>11</td>\n",
       "      <td>4188.69</td>\n",
       "      <td>Value for money</td>\n",
       "      <td>True</td>\n",
       "      <td>11</td>\n",
       "      <td>837.738</td>\n",
       "      <td>342.711</td>\n",
       "    </tr>\n",
       "    <tr>\n",
       "      <th>1</th>\n",
       "      <td>2023-02-27</td>\n",
       "      <td>Clothing</td>\n",
       "      <td>North</td>\n",
       "      <td>951.21</td>\n",
       "      <td>17</td>\n",
       "      <td>16170.57</td>\n",
       "      <td>Worth the price</td>\n",
       "      <td>True</td>\n",
       "      <td>2</td>\n",
       "      <td>3234.114</td>\n",
       "      <td>856.089</td>\n",
       "    </tr>\n",
       "    <tr>\n",
       "      <th>2</th>\n",
       "      <td>2023-01-13</td>\n",
       "      <td>Grocery</td>\n",
       "      <td>North</td>\n",
       "      <td>734.67</td>\n",
       "      <td>8</td>\n",
       "      <td>5877.36</td>\n",
       "      <td>Value for money</td>\n",
       "      <td>True</td>\n",
       "      <td>1</td>\n",
       "      <td>1175.472</td>\n",
       "      <td>661.203</td>\n",
       "    </tr>\n",
       "    <tr>\n",
       "      <th>3</th>\n",
       "      <td>2023-05-21</td>\n",
       "      <td>Toys</td>\n",
       "      <td>North</td>\n",
       "      <td>602.67</td>\n",
       "      <td>4</td>\n",
       "      <td>2410.68</td>\n",
       "      <td>Excellent quality</td>\n",
       "      <td>True</td>\n",
       "      <td>5</td>\n",
       "      <td>482.136</td>\n",
       "      <td>542.403</td>\n",
       "    </tr>\n",
       "    <tr>\n",
       "      <th>4</th>\n",
       "      <td>2023-05-06</td>\n",
       "      <td>Toys</td>\n",
       "      <td>South</td>\n",
       "      <td>164.46</td>\n",
       "      <td>6</td>\n",
       "      <td>986.76</td>\n",
       "      <td>Highly recommend</td>\n",
       "      <td>False</td>\n",
       "      <td>5</td>\n",
       "      <td>197.352</td>\n",
       "      <td>164.460</td>\n",
       "    </tr>\n",
       "    <tr>\n",
       "      <th>...</th>\n",
       "      <td>...</td>\n",
       "      <td>...</td>\n",
       "      <td>...</td>\n",
       "      <td>...</td>\n",
       "      <td>...</td>\n",
       "      <td>...</td>\n",
       "      <td>...</td>\n",
       "      <td>...</td>\n",
       "      <td>...</td>\n",
       "      <td>...</td>\n",
       "      <td>...</td>\n",
       "    </tr>\n",
       "    <tr>\n",
       "      <th>195</th>\n",
       "      <td>2023-09-30</td>\n",
       "      <td>Grocery</td>\n",
       "      <td>North</td>\n",
       "      <td>355.72</td>\n",
       "      <td>4</td>\n",
       "      <td>1422.88</td>\n",
       "      <td>Excellent quality</td>\n",
       "      <td>True</td>\n",
       "      <td>9</td>\n",
       "      <td>284.576</td>\n",
       "      <td>320.148</td>\n",
       "    </tr>\n",
       "    <tr>\n",
       "      <th>196</th>\n",
       "      <td>2023-03-06</td>\n",
       "      <td>Clothing</td>\n",
       "      <td>West</td>\n",
       "      <td>728.70</td>\n",
       "      <td>18</td>\n",
       "      <td>13116.60</td>\n",
       "      <td>Value for money</td>\n",
       "      <td>True</td>\n",
       "      <td>3</td>\n",
       "      <td>2623.320</td>\n",
       "      <td>655.830</td>\n",
       "    </tr>\n",
       "    <tr>\n",
       "      <th>197</th>\n",
       "      <td>2023-03-07</td>\n",
       "      <td>Grocery</td>\n",
       "      <td>North</td>\n",
       "      <td>898.14</td>\n",
       "      <td>13</td>\n",
       "      <td>11675.82</td>\n",
       "      <td>Value for money</td>\n",
       "      <td>True</td>\n",
       "      <td>3</td>\n",
       "      <td>2335.164</td>\n",
       "      <td>808.326</td>\n",
       "    </tr>\n",
       "    <tr>\n",
       "      <th>198</th>\n",
       "      <td>2023-12-04</td>\n",
       "      <td>Clothing</td>\n",
       "      <td>North</td>\n",
       "      <td>888.22</td>\n",
       "      <td>11</td>\n",
       "      <td>9770.42</td>\n",
       "      <td>Not as expected</td>\n",
       "      <td>False</td>\n",
       "      <td>12</td>\n",
       "      <td>1954.084</td>\n",
       "      <td>888.220</td>\n",
       "    </tr>\n",
       "    <tr>\n",
       "      <th>199</th>\n",
       "      <td>2023-09-01</td>\n",
       "      <td>Furniture</td>\n",
       "      <td>West</td>\n",
       "      <td>782.08</td>\n",
       "      <td>4</td>\n",
       "      <td>3128.32</td>\n",
       "      <td>Highly recommend</td>\n",
       "      <td>False</td>\n",
       "      <td>9</td>\n",
       "      <td>625.664</td>\n",
       "      <td>782.080</td>\n",
       "    </tr>\n",
       "  </tbody>\n",
       "</table>\n",
       "<p>200 rows × 11 columns</p>\n",
       "</div>"
      ],
      "text/plain": [
       "    Date of Sale Product Category Region   Price  Quantity     Sales  \\\n",
       "0     2023-11-24             Toys   West  380.79        11   4188.69   \n",
       "1     2023-02-27         Clothing  North  951.21        17  16170.57   \n",
       "2     2023-01-13          Grocery  North  734.67         8   5877.36   \n",
       "3     2023-05-21             Toys  North  602.67         4   2410.68   \n",
       "4     2023-05-06             Toys  South  164.46         6    986.76   \n",
       "..           ...              ...    ...     ...       ...       ...   \n",
       "195   2023-09-30          Grocery  North  355.72         4   1422.88   \n",
       "196   2023-03-06         Clothing   West  728.70        18  13116.60   \n",
       "197   2023-03-07          Grocery  North  898.14        13  11675.82   \n",
       "198   2023-12-04         Clothing  North  888.22        11   9770.42   \n",
       "199   2023-09-01        Furniture   West  782.08         4   3128.32   \n",
       "\n",
       "     Customer Feedback  Promotion Applied  month    Profit  Discounted_Price  \n",
       "0      Value for money               True     11   837.738           342.711  \n",
       "1      Worth the price               True      2  3234.114           856.089  \n",
       "2      Value for money               True      1  1175.472           661.203  \n",
       "3    Excellent quality               True      5   482.136           542.403  \n",
       "4     Highly recommend              False      5   197.352           164.460  \n",
       "..                 ...                ...    ...       ...               ...  \n",
       "195  Excellent quality               True      9   284.576           320.148  \n",
       "196    Value for money               True      3  2623.320           655.830  \n",
       "197    Value for money               True      3  2335.164           808.326  \n",
       "198    Not as expected              False     12  1954.084           888.220  \n",
       "199   Highly recommend              False      9   625.664           782.080  \n",
       "\n",
       "[200 rows x 11 columns]"
      ]
     },
     "execution_count": 323,
     "metadata": {},
     "output_type": "execute_result"
    }
   ],
   "source": [
    "data['Discounted_Price'] = data['Price'] - data['Price'] * np.where(data['Promotion Applied'] == True, 0.1, 0)\n",
    "data"
   ]
  },
  {
   "cell_type": "markdown",
   "id": "881054fd-e99c-4b09-b14c-eb245c1da738",
   "metadata": {},
   "source": [
    "3. Calculate the cumulative sales over time to analyze growth."
   ]
  },
  {
   "cell_type": "code",
   "execution_count": 335,
   "id": "326e43a0-0910-4aaa-85c2-120b4f3344fa",
   "metadata": {},
   "outputs": [
    {
     "name": "stdout",
     "output_type": "stream",
     "text": [
      "179       1607.65\n",
      "162      11802.69\n",
      "31       12875.61\n",
      "149      13161.47\n",
      "183      25461.45\n",
      "          ...    \n",
      "95      989965.23\n",
      "33     1002307.43\n",
      "24     1003691.96\n",
      "81     1006200.24\n",
      "61     1007036.16\n",
      "Name: Sales, Length: 200, dtype: float64\n"
     ]
    }
   ],
   "source": [
    "data = data.sort_values('Date of Sale')\n",
    "cumulative_sales = data['Sales'].cumsum()\n",
    "print(cumulative_sales)"
   ]
  },
  {
   "cell_type": "markdown",
   "id": "896a7686-f0a8-45c6-9dba-0ddcc5e5914b",
   "metadata": {},
   "source": [
    "# 9. Visualizations (using Matplotlib or Seaborn)"
   ]
  },
  {
   "cell_type": "markdown",
   "id": "75defd13-3dc5-4afe-901f-b98c68e453ba",
   "metadata": {},
   "source": [
    "1. Plot total sales by region and product category."
   ]
  },
  {
   "cell_type": "code",
   "execution_count": 342,
   "id": "252b609c-da43-43df-b81e-d8586c39ca7a",
   "metadata": {},
   "outputs": [],
   "source": [
    "import matplotlib as plt"
   ]
  },
  {
   "cell_type": "code",
   "execution_count": 348,
   "id": "5f389bb2-ea32-4176-b8b8-d6371e31d967",
   "metadata": {},
   "outputs": [
    {
     "data": {
      "text/plain": [
       "<Axes: title={'center': 'total sales by region and product category'}, xlabel='Region,Product Category'>"
      ]
     },
     "execution_count": 348,
     "metadata": {},
     "output_type": "execute_result"
    },
    {
     "data": {
      "image/png": "[encoded data removed]",
      "text/plain": [
       "<Figure size 640x480 with 1 Axes>"
      ]
     },
     "metadata": {},
     "output_type": "display_data"
    }
   ],
   "source": [
    "region_category_sales = data.groupby(['Region', 'Product Category'])['Sales'].sum()\n",
    "region_category_sales.plot(kind='bar', title='total sales by region and product category')"
   ]
  },
  {
   "cell_type": "markdown",
   "id": "0cec5593-4b9d-42ed-b0fc-c9494139ee64",
   "metadata": {},
   "source": [
    "2. Create a time-series plot showing monthly sales trends."
   ]
  },
  {
   "cell_type": "code",
   "execution_count": 357,
   "id": "b26a6358-e175-415b-bf2c-bdf00493ef0d",
   "metadata": {},
   "outputs": [
    {
     "data": {
      "text/plain": [
       "<Axes: title={'center': 'time-series plot showing monthly sales trends'}, xlabel='month'>"
      ]
     },
     "execution_count": 357,
     "metadata": {},
     "output_type": "execute_result"
    },
    {
     "data": {
      "image/png": "[encoded data removed]",
      "text/plain": [
       "<Figure size 640x480 with 1 Axes>"
      ]
     },
     "metadata": {},
     "output_type": "display_data"
    }
   ],
   "source": [
    "monthly_sales = data.groupby('month')['Sales'].sum()\n",
    "monthly_sales.plot(title='time-series plot showing monthly sales trends')"
   ]
  },
  {
   "cell_type": "markdown",
   "id": "22e0a19f-9d06-4a24-a811-d23ce707ef24",
   "metadata": {},
   "source": [
    "3. Visualize the distribution of product prices and sales to identify any outliers."
   ]
  },
  {
   "cell_type": "code",
   "execution_count": 384,
   "id": "816fae0f-4485-41b0-955c-2b92dae1a775",
   "metadata": {},
   "outputs": [
    {
     "data": {
      "text/plain": [
       "<Axes: title={'center': 'Sales distribution'}, ylabel='Frequency'>"
      ]
     },
     "execution_count": 384,
     "metadata": {},
     "output_type": "execute_result"
    },
    {
     "data": {
      "image/png": "[encoded data removed]",
      "text/plain": [
       "<Figure size 640x480 with 1 Axes>"
      ]
     },
     "metadata": {},
     "output_type": "display_data"
    }
   ],
   "source": [
    "data['Price'].plot(kind='hist', bins=30, title='Price distribution')\n",
    "data['Sales'].plot(kind='hist', bins=30, title='Sales distribution')"
   ]
  },
  {
   "cell_type": "code",
   "execution_count": null,
   "id": "0d3287d2-2509-488e-a585-4ba7a3b0c279",
   "metadata": {},
   "outputs": [],
   "source": []
  }
 ],
 "metadata": {
  "kernelspec": {
   "display_name": "Python 3 (ipykernel)",
   "language": "python",
   "name": "python3"
  },
  "language_info": {
   "codemirror_mode": {
    "name": "ipython",
    "version": 3
   },
   "file_extension": ".py",
   "mimetype": "text/x-python",
   "name": "python",
   "nbconvert_exporter": "python",
   "pygments_lexer": "ipython3",
   "version": "3.12.4"
  }
 },
 "nbformat": 4,
 "nbformat_minor": 5
}
